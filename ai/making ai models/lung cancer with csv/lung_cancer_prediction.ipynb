{
 "cells": [
  {
   "cell_type": "markdown",
   "id": "8795049a",
   "metadata": {},
   "source": [
    "# importing libraries"
   ]
  },
  {
   "cell_type": "code",
   "execution_count": 14,
   "id": "b206cfe0",
   "metadata": {},
   "outputs": [],
   "source": [
    "import pandas as pd\n",
    "from sklearn import preprocessing\n",
    "from sklearn.model_selection import train_test_split\n",
    "from sklearn.neighbors import KNeighborsClassifier\n",
    "from sklearn import metrics\n",
    "import pickle\n",
    "import os.path"
   ]
  },
  {
   "cell_type": "markdown",
   "id": "571749e2",
   "metadata": {},
   "source": [
    "# Reading Dataset"
   ]
  },
  {
   "cell_type": "code",
   "execution_count": 2,
   "id": "21edc9ba",
   "metadata": {},
   "outputs": [
    {
     "name": "stdout",
     "output_type": "stream",
     "text": [
      "(1000, 14)\n"
     ]
    }
   ],
   "source": [
    "df = pd.read_csv('cleaned_dataset.csv')\n",
    "print(df.shape)"
   ]
  },
  {
   "cell_type": "markdown",
   "id": "f475d9b5",
   "metadata": {},
   "source": [
    "# Showing describe"
   ]
  },
  {
   "cell_type": "code",
   "execution_count": 3,
   "id": "db6a067a",
   "metadata": {},
   "outputs": [
    {
     "data": {
      "text/html": [
       "<div>\n",
       "<style scoped>\n",
       "    .dataframe tbody tr th:only-of-type {\n",
       "        vertical-align: middle;\n",
       "    }\n",
       "\n",
       "    .dataframe tbody tr th {\n",
       "        vertical-align: top;\n",
       "    }\n",
       "\n",
       "    .dataframe thead th {\n",
       "        text-align: right;\n",
       "    }\n",
       "</style>\n",
       "<table border=\"1\" class=\"dataframe\">\n",
       "  <thead>\n",
       "    <tr style=\"text-align: right;\">\n",
       "      <th></th>\n",
       "      <th>Air Pollution</th>\n",
       "      <th>Alcohol use</th>\n",
       "      <th>Dust Allergy</th>\n",
       "      <th>OccuPational Hazards</th>\n",
       "      <th>Genetic Risk</th>\n",
       "      <th>chronic Lung Disease</th>\n",
       "      <th>Balanced Diet</th>\n",
       "      <th>Obesity</th>\n",
       "      <th>Smoking</th>\n",
       "      <th>Passive Smoker</th>\n",
       "      <th>Chest Pain</th>\n",
       "      <th>Coughing of Blood</th>\n",
       "      <th>Fatigue</th>\n",
       "      <th>Level</th>\n",
       "    </tr>\n",
       "  </thead>\n",
       "  <tbody>\n",
       "    <tr>\n",
       "      <th>count</th>\n",
       "      <td>1000.0000</td>\n",
       "      <td>1000.000000</td>\n",
       "      <td>1000.000000</td>\n",
       "      <td>1000.000000</td>\n",
       "      <td>1000.000000</td>\n",
       "      <td>1000.000000</td>\n",
       "      <td>1000.000000</td>\n",
       "      <td>1000.000000</td>\n",
       "      <td>1000.000000</td>\n",
       "      <td>1000.000000</td>\n",
       "      <td>1000.000000</td>\n",
       "      <td>1000.000000</td>\n",
       "      <td>1000.000000</td>\n",
       "      <td>1000.000000</td>\n",
       "    </tr>\n",
       "    <tr>\n",
       "      <th>mean</th>\n",
       "      <td>3.8400</td>\n",
       "      <td>4.563000</td>\n",
       "      <td>5.165000</td>\n",
       "      <td>4.840000</td>\n",
       "      <td>4.580000</td>\n",
       "      <td>4.380000</td>\n",
       "      <td>4.491000</td>\n",
       "      <td>4.465000</td>\n",
       "      <td>3.948000</td>\n",
       "      <td>4.195000</td>\n",
       "      <td>4.438000</td>\n",
       "      <td>4.859000</td>\n",
       "      <td>3.856000</td>\n",
       "      <td>2.062000</td>\n",
       "    </tr>\n",
       "    <tr>\n",
       "      <th>std</th>\n",
       "      <td>2.0304</td>\n",
       "      <td>2.620477</td>\n",
       "      <td>1.980833</td>\n",
       "      <td>2.107805</td>\n",
       "      <td>2.126999</td>\n",
       "      <td>1.848518</td>\n",
       "      <td>2.135528</td>\n",
       "      <td>2.124921</td>\n",
       "      <td>2.495902</td>\n",
       "      <td>2.311778</td>\n",
       "      <td>2.280209</td>\n",
       "      <td>2.427965</td>\n",
       "      <td>2.244616</td>\n",
       "      <td>0.815365</td>\n",
       "    </tr>\n",
       "    <tr>\n",
       "      <th>min</th>\n",
       "      <td>1.0000</td>\n",
       "      <td>1.000000</td>\n",
       "      <td>1.000000</td>\n",
       "      <td>1.000000</td>\n",
       "      <td>1.000000</td>\n",
       "      <td>1.000000</td>\n",
       "      <td>1.000000</td>\n",
       "      <td>1.000000</td>\n",
       "      <td>1.000000</td>\n",
       "      <td>1.000000</td>\n",
       "      <td>1.000000</td>\n",
       "      <td>1.000000</td>\n",
       "      <td>1.000000</td>\n",
       "      <td>1.000000</td>\n",
       "    </tr>\n",
       "    <tr>\n",
       "      <th>25%</th>\n",
       "      <td>2.0000</td>\n",
       "      <td>2.000000</td>\n",
       "      <td>4.000000</td>\n",
       "      <td>3.000000</td>\n",
       "      <td>2.000000</td>\n",
       "      <td>3.000000</td>\n",
       "      <td>2.000000</td>\n",
       "      <td>3.000000</td>\n",
       "      <td>2.000000</td>\n",
       "      <td>2.000000</td>\n",
       "      <td>2.000000</td>\n",
       "      <td>3.000000</td>\n",
       "      <td>2.000000</td>\n",
       "      <td>1.000000</td>\n",
       "    </tr>\n",
       "    <tr>\n",
       "      <th>50%</th>\n",
       "      <td>3.0000</td>\n",
       "      <td>5.000000</td>\n",
       "      <td>6.000000</td>\n",
       "      <td>5.000000</td>\n",
       "      <td>5.000000</td>\n",
       "      <td>4.000000</td>\n",
       "      <td>4.000000</td>\n",
       "      <td>4.000000</td>\n",
       "      <td>3.000000</td>\n",
       "      <td>4.000000</td>\n",
       "      <td>4.000000</td>\n",
       "      <td>4.000000</td>\n",
       "      <td>3.000000</td>\n",
       "      <td>2.000000</td>\n",
       "    </tr>\n",
       "    <tr>\n",
       "      <th>75%</th>\n",
       "      <td>6.0000</td>\n",
       "      <td>7.000000</td>\n",
       "      <td>7.000000</td>\n",
       "      <td>7.000000</td>\n",
       "      <td>7.000000</td>\n",
       "      <td>6.000000</td>\n",
       "      <td>7.000000</td>\n",
       "      <td>7.000000</td>\n",
       "      <td>7.000000</td>\n",
       "      <td>7.000000</td>\n",
       "      <td>7.000000</td>\n",
       "      <td>7.000000</td>\n",
       "      <td>5.000000</td>\n",
       "      <td>3.000000</td>\n",
       "    </tr>\n",
       "    <tr>\n",
       "      <th>max</th>\n",
       "      <td>8.0000</td>\n",
       "      <td>8.000000</td>\n",
       "      <td>8.000000</td>\n",
       "      <td>8.000000</td>\n",
       "      <td>7.000000</td>\n",
       "      <td>7.000000</td>\n",
       "      <td>7.000000</td>\n",
       "      <td>7.000000</td>\n",
       "      <td>8.000000</td>\n",
       "      <td>8.000000</td>\n",
       "      <td>9.000000</td>\n",
       "      <td>9.000000</td>\n",
       "      <td>9.000000</td>\n",
       "      <td>3.000000</td>\n",
       "    </tr>\n",
       "  </tbody>\n",
       "</table>\n",
       "</div>"
      ],
      "text/plain": [
       "       Air Pollution  Alcohol use  Dust Allergy  OccuPational Hazards  \\\n",
       "count      1000.0000  1000.000000   1000.000000           1000.000000   \n",
       "mean          3.8400     4.563000      5.165000              4.840000   \n",
       "std           2.0304     2.620477      1.980833              2.107805   \n",
       "min           1.0000     1.000000      1.000000              1.000000   \n",
       "25%           2.0000     2.000000      4.000000              3.000000   \n",
       "50%           3.0000     5.000000      6.000000              5.000000   \n",
       "75%           6.0000     7.000000      7.000000              7.000000   \n",
       "max           8.0000     8.000000      8.000000              8.000000   \n",
       "\n",
       "       Genetic Risk  chronic Lung Disease  Balanced Diet      Obesity  \\\n",
       "count   1000.000000           1000.000000    1000.000000  1000.000000   \n",
       "mean       4.580000              4.380000       4.491000     4.465000   \n",
       "std        2.126999              1.848518       2.135528     2.124921   \n",
       "min        1.000000              1.000000       1.000000     1.000000   \n",
       "25%        2.000000              3.000000       2.000000     3.000000   \n",
       "50%        5.000000              4.000000       4.000000     4.000000   \n",
       "75%        7.000000              6.000000       7.000000     7.000000   \n",
       "max        7.000000              7.000000       7.000000     7.000000   \n",
       "\n",
       "           Smoking  Passive Smoker   Chest Pain  Coughing of Blood  \\\n",
       "count  1000.000000     1000.000000  1000.000000        1000.000000   \n",
       "mean      3.948000        4.195000     4.438000           4.859000   \n",
       "std       2.495902        2.311778     2.280209           2.427965   \n",
       "min       1.000000        1.000000     1.000000           1.000000   \n",
       "25%       2.000000        2.000000     2.000000           3.000000   \n",
       "50%       3.000000        4.000000     4.000000           4.000000   \n",
       "75%       7.000000        7.000000     7.000000           7.000000   \n",
       "max       8.000000        8.000000     9.000000           9.000000   \n",
       "\n",
       "           Fatigue        Level  \n",
       "count  1000.000000  1000.000000  \n",
       "mean      3.856000     2.062000  \n",
       "std       2.244616     0.815365  \n",
       "min       1.000000     1.000000  \n",
       "25%       2.000000     1.000000  \n",
       "50%       3.000000     2.000000  \n",
       "75%       5.000000     3.000000  \n",
       "max       9.000000     3.000000  "
      ]
     },
     "execution_count": 3,
     "metadata": {},
     "output_type": "execute_result"
    }
   ],
   "source": [
    "df.describe()"
   ]
  },
  {
   "cell_type": "markdown",
   "id": "080a9a5a",
   "metadata": {},
   "source": [
    "# Investigating the greatest impact on classification"
   ]
  },
  {
   "cell_type": "code",
   "execution_count": 5,
   "id": "a24ee75d",
   "metadata": {},
   "outputs": [
    {
     "name": "stdout",
     "output_type": "stream",
     "text": [
      "Level                   1.000000\n",
      "Obesity                 0.827435\n",
      "Coughing of Blood       0.782092\n",
      "Alcohol use             0.718710\n",
      "Dust Allergy            0.713839\n",
      "Balanced Diet           0.706273\n",
      "Passive Smoker          0.703594\n",
      "Genetic Risk            0.701303\n",
      "OccuPational Hazards    0.673255\n",
      "Chest Pain              0.645461\n",
      "Air Pollution           0.636038\n",
      "Fatigue                 0.625114\n",
      "chronic Lung Disease    0.609971\n",
      "Smoking                 0.519530\n",
      "dtype: float64\n"
     ]
    }
   ],
   "source": [
    "correlations = df.corrwith(df['Level'])\n",
    "sorted_columns = correlations.sort_values(ascending=False)\n",
    "print(sorted_columns)"
   ]
  },
  {
   "cell_type": "markdown",
   "id": "31502a99",
   "metadata": {},
   "source": [
    "# Separating the x's and y"
   ]
  },
  {
   "cell_type": "code",
   "execution_count": 6,
   "id": "6d660903",
   "metadata": {},
   "outputs": [
    {
     "name": "stdout",
     "output_type": "stream",
     "text": [
      "(1000, 13)\n",
      "(1000,)\n"
     ]
    }
   ],
   "source": [
    "x = df.iloc[: , :-1].values\n",
    "y = df[\"Level\"].values\n",
    "print(x.shape)\n",
    "print(y.shape)"
   ]
  },
  {
   "cell_type": "markdown",
   "id": "701baf50",
   "metadata": {},
   "source": [
    "# Data scaling"
   ]
  },
  {
   "cell_type": "code",
   "execution_count": 7,
   "id": "ababf6f9",
   "metadata": {},
   "outputs": [
    {
     "name": "stdout",
     "output_type": "stream",
     "text": [
      "[[-0.90667901 -0.21495391 -0.08333998 ... -1.069735   -0.35397126\n",
      "  -0.38154776]\n",
      " [-0.41391868 -1.36035665 -0.08333998 ... -1.069735   -0.7660449\n",
      "  -1.27301449]\n",
      " [ 0.07884165  0.166847    0.42175079 ... -0.19218373  1.29432331\n",
      "   1.84711907]\n",
      " ...\n",
      " [ 0.07884165  0.166847    0.42175079 ... -0.19218373  1.29432331\n",
      "   1.84711907]\n",
      " [ 1.06436231  1.31224973  0.92684156 ...  1.12414318  1.70639695\n",
      "  -0.38154776]\n",
      " [ 1.06436231  0.166847    0.42175079 ... -0.19218373  1.29432331\n",
      "   1.84711907]]\n"
     ]
    }
   ],
   "source": [
    "scaler = preprocessing.StandardScaler().fit(x)\n",
    "x = scaler.transform(x.astype(float))\n",
    "print(x)"
   ]
  },
  {
   "cell_type": "markdown",
   "id": "6b0e9af3",
   "metadata": {},
   "source": [
    "# Spliting the train and test data"
   ]
  },
  {
   "cell_type": "code",
   "execution_count": 8,
   "id": "1dfe5324",
   "metadata": {},
   "outputs": [
    {
     "name": "stdout",
     "output_type": "stream",
     "text": [
      "Train set: (800, 13) (800,)\n",
      "Test set: (200, 13) (200,)\n"
     ]
    }
   ],
   "source": [
    "x_train, x_test, y_train, y_test = train_test_split(x, y, test_size=0.2, random_state=4)\n",
    "print ('Train set:', x_train.shape,  y_train.shape)\n",
    "print ('Test set:', x_test.shape,  y_test.shape)"
   ]
  },
  {
   "cell_type": "markdown",
   "id": "6039ccd2",
   "metadata": {},
   "source": [
    "# Building the model"
   ]
  },
  {
   "cell_type": "code",
   "execution_count": 9,
   "id": "a3bb09f0",
   "metadata": {},
   "outputs": [
    {
     "data": {
      "text/html": [
       "<style>#sk-container-id-1 {color: black;}#sk-container-id-1 pre{padding: 0;}#sk-container-id-1 div.sk-toggleable {background-color: white;}#sk-container-id-1 label.sk-toggleable__label {cursor: pointer;display: block;width: 100%;margin-bottom: 0;padding: 0.3em;box-sizing: border-box;text-align: center;}#sk-container-id-1 label.sk-toggleable__label-arrow:before {content: \"▸\";float: left;margin-right: 0.25em;color: #696969;}#sk-container-id-1 label.sk-toggleable__label-arrow:hover:before {color: black;}#sk-container-id-1 div.sk-estimator:hover label.sk-toggleable__label-arrow:before {color: black;}#sk-container-id-1 div.sk-toggleable__content {max-height: 0;max-width: 0;overflow: hidden;text-align: left;background-color: #f0f8ff;}#sk-container-id-1 div.sk-toggleable__content pre {margin: 0.2em;color: black;border-radius: 0.25em;background-color: #f0f8ff;}#sk-container-id-1 input.sk-toggleable__control:checked~div.sk-toggleable__content {max-height: 200px;max-width: 100%;overflow: auto;}#sk-container-id-1 input.sk-toggleable__control:checked~label.sk-toggleable__label-arrow:before {content: \"▾\";}#sk-container-id-1 div.sk-estimator input.sk-toggleable__control:checked~label.sk-toggleable__label {background-color: #d4ebff;}#sk-container-id-1 div.sk-label input.sk-toggleable__control:checked~label.sk-toggleable__label {background-color: #d4ebff;}#sk-container-id-1 input.sk-hidden--visually {border: 0;clip: rect(1px 1px 1px 1px);clip: rect(1px, 1px, 1px, 1px);height: 1px;margin: -1px;overflow: hidden;padding: 0;position: absolute;width: 1px;}#sk-container-id-1 div.sk-estimator {font-family: monospace;background-color: #f0f8ff;border: 1px dotted black;border-radius: 0.25em;box-sizing: border-box;margin-bottom: 0.5em;}#sk-container-id-1 div.sk-estimator:hover {background-color: #d4ebff;}#sk-container-id-1 div.sk-parallel-item::after {content: \"\";width: 100%;border-bottom: 1px solid gray;flex-grow: 1;}#sk-container-id-1 div.sk-label:hover label.sk-toggleable__label {background-color: #d4ebff;}#sk-container-id-1 div.sk-serial::before {content: \"\";position: absolute;border-left: 1px solid gray;box-sizing: border-box;top: 0;bottom: 0;left: 50%;z-index: 0;}#sk-container-id-1 div.sk-serial {display: flex;flex-direction: column;align-items: center;background-color: white;padding-right: 0.2em;padding-left: 0.2em;position: relative;}#sk-container-id-1 div.sk-item {position: relative;z-index: 1;}#sk-container-id-1 div.sk-parallel {display: flex;align-items: stretch;justify-content: center;background-color: white;position: relative;}#sk-container-id-1 div.sk-item::before, #sk-container-id-1 div.sk-parallel-item::before {content: \"\";position: absolute;border-left: 1px solid gray;box-sizing: border-box;top: 0;bottom: 0;left: 50%;z-index: -1;}#sk-container-id-1 div.sk-parallel-item {display: flex;flex-direction: column;z-index: 1;position: relative;background-color: white;}#sk-container-id-1 div.sk-parallel-item:first-child::after {align-self: flex-end;width: 50%;}#sk-container-id-1 div.sk-parallel-item:last-child::after {align-self: flex-start;width: 50%;}#sk-container-id-1 div.sk-parallel-item:only-child::after {width: 0;}#sk-container-id-1 div.sk-dashed-wrapped {border: 1px dashed gray;margin: 0 0.4em 0.5em 0.4em;box-sizing: border-box;padding-bottom: 0.4em;background-color: white;}#sk-container-id-1 div.sk-label label {font-family: monospace;font-weight: bold;display: inline-block;line-height: 1.2em;}#sk-container-id-1 div.sk-label-container {text-align: center;}#sk-container-id-1 div.sk-container {/* jupyter's `normalize.less` sets `[hidden] { display: none; }` but bootstrap.min.css set `[hidden] { display: none !important; }` so we also need the `!important` here to be able to override the default hidden behavior on the sphinx rendered scikit-learn.org. See: https://github.com/scikit-learn/scikit-learn/issues/21755 */display: inline-block !important;position: relative;}#sk-container-id-1 div.sk-text-repr-fallback {display: none;}</style><div id=\"sk-container-id-1\" class=\"sk-top-container\"><div class=\"sk-text-repr-fallback\"><pre>KNeighborsClassifier(n_neighbors=4)</pre><b>In a Jupyter environment, please rerun this cell to show the HTML representation or trust the notebook. <br />On GitHub, the HTML representation is unable to render, please try loading this page with nbviewer.org.</b></div><div class=\"sk-container\" hidden><div class=\"sk-item\"><div class=\"sk-estimator sk-toggleable\"><input class=\"sk-toggleable__control sk-hidden--visually\" id=\"sk-estimator-id-1\" type=\"checkbox\" checked><label for=\"sk-estimator-id-1\" class=\"sk-toggleable__label sk-toggleable__label-arrow\">KNeighborsClassifier</label><div class=\"sk-toggleable__content\"><pre>KNeighborsClassifier(n_neighbors=4)</pre></div></div></div></div></div>"
      ],
      "text/plain": [
       "KNeighborsClassifier(n_neighbors=4)"
      ]
     },
     "execution_count": 9,
     "metadata": {},
     "output_type": "execute_result"
    }
   ],
   "source": [
    "k = 4\n",
    "#Train Model and Predict\n",
    "model = KNeighborsClassifier(n_neighbors = k).fit(x_train,y_train)\n",
    "model"
   ]
  },
  {
   "cell_type": "markdown",
   "id": "365c0de0",
   "metadata": {},
   "source": [
    "# Check the model accuracy"
   ]
  },
  {
   "cell_type": "code",
   "execution_count": 10,
   "id": "4f3bce9e",
   "metadata": {},
   "outputs": [
    {
     "name": "stdout",
     "output_type": "stream",
     "text": [
      "Train set Accuracy:  1.0\n",
      "Test set Accuracy:  1.0\n"
     ]
    }
   ],
   "source": [
    "print(\"Train set Accuracy: \", metrics.accuracy_score(y_train , model.predict(x_train)))\n",
    "print(\"Test set Accuracy: \" , metrics.accuracy_score(y_test  , model.predict(x_test)))"
   ]
  },
  {
   "cell_type": "markdown",
   "id": "6613c259",
   "metadata": {},
   "source": [
    "# Saving the model"
   ]
  },
  {
   "cell_type": "code",
   "execution_count": 15,
   "id": "b402c244",
   "metadata": {},
   "outputs": [
    {
     "name": "stdout",
     "output_type": "stream",
     "text": [
      "model already exist.\n"
     ]
    }
   ],
   "source": [
    "path = './knnmodel_file'\n",
    "\n",
    "check_file = os.path.isfile(path)\n",
    "if check_file == False:\n",
    "    \n",
    "    # Its important to use binary mode\n",
    "    knnPickle = open('knnmodel_file', 'wb')\n",
    "\n",
    "    # source, destination\n",
    "    pickle.dump(model, knnPickle)\n",
    "\n",
    "    # close the file\n",
    "    knnPickle.close()\n",
    "else:\n",
    "    print(\"model already exist.\")"
   ]
  },
  {
   "cell_type": "markdown",
   "id": "0111ce58",
   "metadata": {},
   "source": [
    "# Testing model"
   ]
  },
  {
   "cell_type": "code",
   "execution_count": 11,
   "id": "8833b304",
   "metadata": {},
   "outputs": [
    {
     "data": {
      "text/plain": [
       "array([3], dtype=int64)"
      ]
     },
     "execution_count": 11,
     "metadata": {},
     "output_type": "execute_result"
    }
   ],
   "source": [
    "nx = [[ 4,5,6,5,5,4,6,7,2,3,4,8,8]]\n",
    "nxs= scaler.transform(nx)\n",
    "model.predict(nxs)"
   ]
  },
  {
   "cell_type": "code",
   "execution_count": 13,
   "id": "ad3549b1",
   "metadata": {},
   "outputs": [
    {
     "name": "stdout",
     "output_type": "stream",
     "text": [
      "[2 3 3 3 2 1 2 3 1 1 2 1 3 2 1 3 3 2 2 3 1 3 1 3 3 1 2 1 3 1 1 2 1 2 3 3 2\n",
      " 2 1 3 3 1 1 1 2 3 3 1 3 1 3 2 2 2 1 2 2 1 2 3 3 3 3 3 3 2 1 2 3 3 3 2 2 1\n",
      " 1 2 1 2 3 3 3 1 1 1 3 1 3 2 3 2 3 2 1 2 2 3 2 2 1 1 3 2 2 3 3 2 3 3 1 2 1\n",
      " 2 2 2 3 2 3 1 3 2 1 1 1 3 3 3 1 3 2 1 3 3 1 1 2 2 3 3 2 2 3 1 3 3 3 2 1 3\n",
      " 2 3 3 3 3 2 1 3 2 2 1 2 2 2 2 1 3 1 2 2 1 1 1 3 3 1 2 3 2 2 3 3 2 2 3 1 2\n",
      " 1 1 3 3 2 2 3 3 2 3 2 1 2 3 3]\n"
     ]
    }
   ],
   "source": [
    "# load the model from disk\n",
    "loaded_model = pickle.load(open('knnmodel_file', 'rb'))\n",
    "result = loaded_model.predict(x_test)\n",
    "print(result)"
   ]
  },
  {
   "cell_type": "code",
   "execution_count": null,
   "id": "6c3a0300",
   "metadata": {},
   "outputs": [],
   "source": []
  },
  {
   "cell_type": "code",
   "execution_count": null,
   "id": "a684fef7",
   "metadata": {},
   "outputs": [],
   "source": []
  }
 ],
 "metadata": {
  "kernelspec": {
   "display_name": "Python 3 (ipykernel)",
   "language": "python",
   "name": "python3"
  },
  "language_info": {
   "codemirror_mode": {
    "name": "ipython",
    "version": 3
   },
   "file_extension": ".py",
   "mimetype": "text/x-python",
   "name": "python",
   "nbconvert_exporter": "python",
   "pygments_lexer": "ipython3",
   "version": "3.11.4"
  }
 },
 "nbformat": 4,
 "nbformat_minor": 5
}
